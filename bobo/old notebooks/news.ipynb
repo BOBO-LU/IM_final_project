{
 "cells": [
  {
   "cell_type": "code",
   "execution_count": 2,
   "source": [
    "import csv\n",
    "import datetime\n",
    "import time\n",
    "import os\n",
    "\n",
    "from selenium import webdriver\n"
   ],
   "outputs": [],
   "metadata": {}
  },
  {
   "cell_type": "code",
   "execution_count": null,
   "source": [
    "main_url = \"https://www.ettoday.net/news/tag/%E5%91%B1%E5%90%89/\"\n"
   ],
   "outputs": [],
   "metadata": {}
  },
  {
   "cell_type": "code",
   "execution_count": 3,
   "source": [
    "def set_driver():\n",
    "\n",
    "    options = webdriver.ChromeOptions()  # Set up Chinese\n",
    "    # options.add_argument('--headless')\n",
    "    options.add_argument('lang=zh_CN.UTF-8')  # Replacement of head\n",
    "    options.add_argument(\n",
    "        'User-Agent=\"Mozilla/5.0 (Windows NT 10.0; WOW64) AppleWebKit/537.36 (KHTML, like Gecko) Chrome/72.0.3626.121 Safari/537.36\"')\n",
    "    driver = webdriver.Chrome(\n",
    "        os.getenv('DRIVER_PATH'),\n",
    "        options=options)\n",
    "\n",
    "    driver.get(main_url)\n",
    "    driver.add_cookie({\"name\": \"atomic_verifier\",\n",
    "                      \"value\": os.getenv('VERIFIER')})\n",
    "    driver.add_cookie({\"name\": \"atomic_token\", \"value\": os.getenv(\"TOKEN\")})\n",
    "\n",
    "    return driver\n",
    "\n",
    "\n",
    "def init_csv(file_name, update):\n",
    "    if update:\n",
    "        f = open(file_name, \"w+\")\n",
    "        f.close()\n",
    "    # else:\n",
    "        with open(file_name, 'w') as out_file:\n",
    "            write = csv.writer(out_file)\n",
    "            header = ['Title', 'Date', 'Link']\n",
    "            write.writerow(header)"
   ],
   "outputs": [],
   "metadata": {}
  },
  {
   "cell_type": "code",
   "execution_count": null,
   "source": [
    "set_driver"
   ],
   "outputs": [],
   "metadata": {}
  }
 ],
 "metadata": {
  "orig_nbformat": 4,
  "language_info": {
   "name": "python",
   "version": "3.8.8",
   "mimetype": "text/x-python",
   "codemirror_mode": {
    "name": "ipython",
    "version": 3
   },
   "pygments_lexer": "ipython3",
   "nbconvert_exporter": "python",
   "file_extension": ".py"
  },
  "kernelspec": {
   "name": "python3",
   "display_name": "Python 3.8.8 64-bit ('base': conda)"
  },
  "interpreter": {
   "hash": "40d35b18824a72466740eca9854c21d0838d2a95cb0ef047a5bc842bf6a70449"
  }
 },
 "nbformat": 4,
 "nbformat_minor": 2
}