{
 "cells": [
  {
   "cell_type": "code",
   "execution_count": null,
   "source": [],
   "outputs": [],
   "metadata": {}
  },
  {
   "cell_type": "code",
   "execution_count": 2,
   "source": [
    "from itertools import chain, combinations\n",
    "\n",
    "\n",
    "def powerset(iterable):\n",
    "    \"powerset([1,2,3]) --> () (1,) (2,) (3,) (1,2) (1,3) (2,3) (1,2,3)\"\n",
    "    s = list(iterable)\n",
    "    return chain.from_iterable(combinations(s, r) for r in range(len(s)+1))\n"
   ],
   "outputs": [],
   "metadata": {}
  },
  {
   "cell_type": "code",
   "execution_count": 5,
   "source": [
    "len(list(set(d)))"
   ],
   "outputs": [
    {
     "output_type": "execute_result",
     "data": {
      "text/plain": [
       "30"
      ]
     },
     "metadata": {},
     "execution_count": 5
    }
   ],
   "metadata": {}
  },
  {
   "cell_type": "code",
   "execution_count": 6,
   "source": [
    "list(powerset(list(set(d))))\n"
   ],
   "outputs": [
    {
     "output_type": "error",
     "ename": "KeyboardInterrupt",
     "evalue": "",
     "traceback": [
      "\u001b[0;31m---------------------------------------------------------------------------\u001b[0m",
      "\u001b[0;31mKeyboardInterrupt\u001b[0m                         Traceback (most recent call last)",
      "\u001b[0;32m<ipython-input-6-d9614e11be5a>\u001b[0m in \u001b[0;36m<module>\u001b[0;34m\u001b[0m\n\u001b[0;32m----> 1\u001b[0;31m \u001b[0mlist\u001b[0m\u001b[0;34m(\u001b[0m\u001b[0mpowerset\u001b[0m\u001b[0;34m(\u001b[0m\u001b[0mlist\u001b[0m\u001b[0;34m(\u001b[0m\u001b[0mset\u001b[0m\u001b[0;34m(\u001b[0m\u001b[0md\u001b[0m\u001b[0;34m)\u001b[0m\u001b[0;34m)\u001b[0m\u001b[0;34m)\u001b[0m\u001b[0;34m)\u001b[0m\u001b[0;34m\u001b[0m\u001b[0;34m\u001b[0m\u001b[0m\n\u001b[0m",
      "\u001b[0;32m<ipython-input-2-c76f85e64122>\u001b[0m in \u001b[0;36m<genexpr>\u001b[0;34m(.0)\u001b[0m\n\u001b[1;32m      5\u001b[0m     \u001b[0;34m\"powerset([1,2,3]) --> () (1,) (2,) (3,) (1,2) (1,3) (2,3) (1,2,3)\"\u001b[0m\u001b[0;34m\u001b[0m\u001b[0;34m\u001b[0m\u001b[0m\n\u001b[1;32m      6\u001b[0m     \u001b[0ms\u001b[0m \u001b[0;34m=\u001b[0m \u001b[0mlist\u001b[0m\u001b[0;34m(\u001b[0m\u001b[0miterable\u001b[0m\u001b[0;34m)\u001b[0m\u001b[0;34m\u001b[0m\u001b[0;34m\u001b[0m\u001b[0m\n\u001b[0;32m----> 7\u001b[0;31m     \u001b[0;32mreturn\u001b[0m \u001b[0mchain\u001b[0m\u001b[0;34m.\u001b[0m\u001b[0mfrom_iterable\u001b[0m\u001b[0;34m(\u001b[0m\u001b[0mcombinations\u001b[0m\u001b[0;34m(\u001b[0m\u001b[0ms\u001b[0m\u001b[0;34m,\u001b[0m \u001b[0mr\u001b[0m\u001b[0;34m)\u001b[0m \u001b[0;32mfor\u001b[0m \u001b[0mr\u001b[0m \u001b[0;32min\u001b[0m \u001b[0mrange\u001b[0m\u001b[0;34m(\u001b[0m\u001b[0mlen\u001b[0m\u001b[0;34m(\u001b[0m\u001b[0ms\u001b[0m\u001b[0;34m)\u001b[0m\u001b[0;34m+\u001b[0m\u001b[0;36m1\u001b[0m\u001b[0;34m)\u001b[0m\u001b[0;34m)\u001b[0m\u001b[0;34m\u001b[0m\u001b[0;34m\u001b[0m\u001b[0m\n\u001b[0m",
      "\u001b[0;31mKeyboardInterrupt\u001b[0m: "
     ]
    }
   ],
   "metadata": {}
  },
  {
   "cell_type": "markdown",
   "source": [
    "### 0.05以下兩個，0.06x 三個，F-statistic"
   ],
   "metadata": {}
  },
  {
   "cell_type": "code",
   "execution_count": 7,
   "source": [
    "\n",
    "\n",
    "# \"丹妮婊姐星球\", \"heyitsmindy\", \"綠眼鏡Punk\", \"NanaQ\", \"統神大戲院\", \"統神大戲院\", \"鼻地大師國動-張葦航\", \"Dinter\", \"Jinnytty 企鵝妹 윰찌\", \"大麻煩\", \"見習網美小吳\", \"見習網美小吳\", \"許藍方博士 Dr. Gracie\"\n",
    "\n",
    "df = pd.read_csv(file_path)\n",
    "df = df[ ~df['Youtuber'].isin(d) ]\n",
    "\n",
    "df = df.reset_index(drop=True)\n",
    "df\n"
   ],
   "outputs": [
    {
     "output_type": "error",
     "ename": "NameError",
     "evalue": "name 'pd' is not defined",
     "traceback": [
      "\u001b[0;31m---------------------------------------------------------------------------\u001b[0m",
      "\u001b[0;31mNameError\u001b[0m                                 Traceback (most recent call last)",
      "\u001b[0;32m<ipython-input-7-92152f0e2209>\u001b[0m in \u001b[0;36m<module>\u001b[0;34m\u001b[0m\n\u001b[1;32m      5\u001b[0m \u001b[0;31m# \"丹妮婊姐星球\", \"heyitsmindy\", \"綠眼鏡Punk\", \"NanaQ\", \"統神大戲院\", \"統神大戲院\", \"鼻地大師國動-張葦航\", \"Dinter\", \"Jinnytty 企鵝妹 윰찌\", \"大麻煩\", \"見習網美小吳\", \"見習網美小吳\", \"許藍方博士 Dr. Gracie\"\u001b[0m\u001b[0;34m\u001b[0m\u001b[0;34m\u001b[0m\u001b[0;34m\u001b[0m\u001b[0m\n\u001b[1;32m      6\u001b[0m \u001b[0;34m\u001b[0m\u001b[0m\n\u001b[0;32m----> 7\u001b[0;31m \u001b[0mdf\u001b[0m \u001b[0;34m=\u001b[0m \u001b[0mpd\u001b[0m\u001b[0;34m.\u001b[0m\u001b[0mread_csv\u001b[0m\u001b[0;34m(\u001b[0m\u001b[0mfile_path\u001b[0m\u001b[0;34m)\u001b[0m\u001b[0;34m\u001b[0m\u001b[0;34m\u001b[0m\u001b[0m\n\u001b[0m\u001b[1;32m      8\u001b[0m \u001b[0mdf\u001b[0m \u001b[0;34m=\u001b[0m \u001b[0mdf\u001b[0m\u001b[0;34m[\u001b[0m \u001b[0;34m~\u001b[0m\u001b[0mdf\u001b[0m\u001b[0;34m[\u001b[0m\u001b[0;34m'Youtuber'\u001b[0m\u001b[0;34m]\u001b[0m\u001b[0;34m.\u001b[0m\u001b[0misin\u001b[0m\u001b[0;34m(\u001b[0m\u001b[0md\u001b[0m\u001b[0;34m)\u001b[0m \u001b[0;34m]\u001b[0m\u001b[0;34m\u001b[0m\u001b[0;34m\u001b[0m\u001b[0m\n\u001b[1;32m      9\u001b[0m \u001b[0;34m\u001b[0m\u001b[0m\n",
      "\u001b[0;31mNameError\u001b[0m: name 'pd' is not defined"
     ]
    }
   ],
   "metadata": {}
  },
  {
   "cell_type": "code",
   "execution_count": 17,
   "source": [
    "import pandas as pd\n",
    "import statsmodels.formula.api as sm\n",
    "file_path = '../sorry_event_match.csv'\n",
    "df = pd.read_csv(file_path)\n",
    "\n",
    "d = [\n",
    "    \"谷阿莫\", \"阿神\", \"阿滴英文\", \"Joeman\", \"木曜4超玩\", \"木曜4超玩\", \"黃氏兄弟\", \"WACKYBOYS 反骨男孩\", \"滴妹\", \"放火 Louis\", \"愛莉莎莎 Alisasa\", \"愛莉莎莎 Alisasa\", \"愛莉莎莎 Alisasa\", \"鍾明軒\", \"蔡桃貴 蔡阿嘎二伯's Family\", \"蔡桃貴 蔡阿嘎二伯's Family\", \"大蛇丸\", \"上班不要看 NSFW\", \"一隻阿圓 I am CIRCLE\", \"Toyz\", \"呱吉\", \"Stand up, Brian! 博恩站起來！\", \"龍龍LungLung\", \"丹妮婊姐星球\"\n",
    "]\n",
    "all_comb = list(powerset(list(set(d))))\n",
    "p_list = []\n",
    "for d in all_comb:\n",
    "    if len(d) < 4:\n",
    "        continue\n",
    "\n",
    "    c = list(d) + [\"丹妮婊姐星球\", \"heyitsmindy\", \"綠眼鏡Punk\", \"NanaQ\", \"統神大戲院\", \"統神大戲院\", \"鼻地大師國動-張葦航\", \"Dinter\", \"Jinnytty 企鵝妹 윰찌\", \"大麻煩\", \"見習網美小吳\", \"見習網美小吳\", \"許藍方博士 Dr. Gracie\"]\n",
    "    df = pd.read_csv(file_path)\n",
    "    df = df[df['Youtuber'].isin(c)]\n",
    "    df = df.reset_index(drop=True)\n",
    "\n",
    "    df['goodbad'] = df['g/b']\n",
    "    for i in range(len(df['犯錯的類別'])):\n",
    "        if df['犯錯的類別'][i] == 'a':\n",
    "            df['犯錯的類別'][i] = '失言'\n",
    "        elif df['犯錯的類別'][i] == 'b':\n",
    "            df['犯錯的類別'][i] = '行為問題'\n",
    "        elif df['犯錯的類別'][i] == 'c':\n",
    "            df['犯錯的類別'][i] = '糾紛'\n",
    "        elif df['犯錯的類別'][i] == 'd':\n",
    "            df['犯錯的類別'][i] = '資料引用'\n",
    "    df['wrongcat'] = df['犯錯的類別']\n",
    "    df['ytrcat'] = df['YTR 類別']\n",
    "    result = sm.ols(formula=\"前二後二情緒變化量 ~ C(goodbad) + sub + C(wrongcat) + C(ytrcat) + C(wrongcat)*C(ytrcat)\", data=df).fit()\n",
    "    result.summary()\n",
    "\n",
    "    results = result\n",
    "    pvalue = results.pvalues\n",
    "    estimate = results.params\n",
    "    tvalue = results.tvalues\n",
    "    std = results.bse\n",
    "    pd.set_option('display.float_format', lambda x: '%.5f' % x)\n",
    "    results_df = pd.DataFrame({\"estimate\": estimate,\n",
    "                            \"std\": std,\n",
    "                            \"t value\": tvalue,\n",
    "                            \"p value\": pvalue\n",
    "                            })\n",
    "    r = results_df[results_df[\"p value\"] <= 0.05].shape[0]\n",
    "    p_list.append(r)\n",
    "\n",
    "    del df\n",
    "    del c\n",
    "    del result\n",
    "    del results\n",
    "    del results_df"
   ],
   "outputs": [
    {
     "output_type": "error",
     "ename": "TypeError",
     "evalue": "only list-like objects are allowed to be passed to isin(), you passed a [NoneType]",
     "traceback": [
      "\u001b[0;31m---------------------------------------------------------------------------\u001b[0m",
      "\u001b[0;31mTypeError\u001b[0m                                 Traceback (most recent call last)",
      "\u001b[0;32m<ipython-input-17-d674d4943521>\u001b[0m in \u001b[0;36m<module>\u001b[0;34m\u001b[0m\n\u001b[1;32m     15\u001b[0m     \u001b[0mc\u001b[0m \u001b[0;34m=\u001b[0m \u001b[0mlist\u001b[0m\u001b[0;34m(\u001b[0m\u001b[0md\u001b[0m\u001b[0;34m)\u001b[0m\u001b[0;34m.\u001b[0m\u001b[0mextend\u001b[0m\u001b[0;34m(\u001b[0m\u001b[0;34m[\u001b[0m\u001b[0;34m\"丹妮婊姐星球\"\u001b[0m\u001b[0;34m,\u001b[0m \u001b[0;34m\"heyitsmindy\"\u001b[0m\u001b[0;34m,\u001b[0m \u001b[0;34m\"綠眼鏡Punk\"\u001b[0m\u001b[0;34m,\u001b[0m \u001b[0;34m\"NanaQ\"\u001b[0m\u001b[0;34m,\u001b[0m \u001b[0;34m\"統神大戲院\"\u001b[0m\u001b[0;34m,\u001b[0m \u001b[0;34m\"統神大戲院\"\u001b[0m\u001b[0;34m,\u001b[0m \u001b[0;34m\"鼻地大師國動-張葦航\"\u001b[0m\u001b[0;34m,\u001b[0m \u001b[0;34m\"Dinter\"\u001b[0m\u001b[0;34m,\u001b[0m \u001b[0;34m\"Jinnytty 企鵝妹 윰찌\"\u001b[0m\u001b[0;34m,\u001b[0m \u001b[0;34m\"大麻煩\"\u001b[0m\u001b[0;34m,\u001b[0m \u001b[0;34m\"見習網美小吳\"\u001b[0m\u001b[0;34m,\u001b[0m \u001b[0;34m\"見習網美小吳\"\u001b[0m\u001b[0;34m,\u001b[0m \u001b[0;34m\"許藍方博士 Dr. Gracie\"\u001b[0m\u001b[0;34m]\u001b[0m\u001b[0;34m)\u001b[0m\u001b[0;34m\u001b[0m\u001b[0;34m\u001b[0m\u001b[0m\n\u001b[1;32m     16\u001b[0m     \u001b[0mdf\u001b[0m \u001b[0;34m=\u001b[0m \u001b[0mpd\u001b[0m\u001b[0;34m.\u001b[0m\u001b[0mread_csv\u001b[0m\u001b[0;34m(\u001b[0m\u001b[0mfile_path\u001b[0m\u001b[0;34m)\u001b[0m\u001b[0;34m\u001b[0m\u001b[0;34m\u001b[0m\u001b[0m\n\u001b[0;32m---> 17\u001b[0;31m     \u001b[0mdf\u001b[0m \u001b[0;34m=\u001b[0m \u001b[0mdf\u001b[0m\u001b[0;34m[\u001b[0m\u001b[0mdf\u001b[0m\u001b[0;34m[\u001b[0m\u001b[0;34m'Youtuber'\u001b[0m\u001b[0;34m]\u001b[0m\u001b[0;34m.\u001b[0m\u001b[0misin\u001b[0m\u001b[0;34m(\u001b[0m\u001b[0mc\u001b[0m\u001b[0;34m)\u001b[0m\u001b[0;34m]\u001b[0m\u001b[0;34m\u001b[0m\u001b[0;34m\u001b[0m\u001b[0m\n\u001b[0m\u001b[1;32m     18\u001b[0m     \u001b[0mdf\u001b[0m \u001b[0;34m=\u001b[0m \u001b[0mdf\u001b[0m\u001b[0;34m.\u001b[0m\u001b[0mreset_index\u001b[0m\u001b[0;34m(\u001b[0m\u001b[0mdrop\u001b[0m\u001b[0;34m=\u001b[0m\u001b[0;32mTrue\u001b[0m\u001b[0;34m)\u001b[0m\u001b[0;34m\u001b[0m\u001b[0;34m\u001b[0m\u001b[0m\n\u001b[1;32m     19\u001b[0m \u001b[0;34m\u001b[0m\u001b[0m\n",
      "\u001b[0;32m~/opt/anaconda3/lib/python3.8/site-packages/pandas/core/series.py\u001b[0m in \u001b[0;36misin\u001b[0;34m(self, values)\u001b[0m\n\u001b[1;32m   4663\u001b[0m         \u001b[0mdtype\u001b[0m\u001b[0;34m:\u001b[0m \u001b[0mbool\u001b[0m\u001b[0;34m\u001b[0m\u001b[0;34m\u001b[0m\u001b[0m\n\u001b[1;32m   4664\u001b[0m         \"\"\"\n\u001b[0;32m-> 4665\u001b[0;31m         \u001b[0mresult\u001b[0m \u001b[0;34m=\u001b[0m \u001b[0malgorithms\u001b[0m\u001b[0;34m.\u001b[0m\u001b[0misin\u001b[0m\u001b[0;34m(\u001b[0m\u001b[0mself\u001b[0m\u001b[0;34m.\u001b[0m\u001b[0m_values\u001b[0m\u001b[0;34m,\u001b[0m \u001b[0mvalues\u001b[0m\u001b[0;34m)\u001b[0m\u001b[0;34m\u001b[0m\u001b[0;34m\u001b[0m\u001b[0m\n\u001b[0m\u001b[1;32m   4666\u001b[0m         return self._constructor(result, index=self.index).__finalize__(\n\u001b[1;32m   4667\u001b[0m             \u001b[0mself\u001b[0m\u001b[0;34m,\u001b[0m \u001b[0mmethod\u001b[0m\u001b[0;34m=\u001b[0m\u001b[0;34m\"isin\"\u001b[0m\u001b[0;34m\u001b[0m\u001b[0;34m\u001b[0m\u001b[0m\n",
      "\u001b[0;32m~/opt/anaconda3/lib/python3.8/site-packages/pandas/core/algorithms.py\u001b[0m in \u001b[0;36misin\u001b[0;34m(comps, values)\u001b[0m\n\u001b[1;32m    433\u001b[0m         )\n\u001b[1;32m    434\u001b[0m     \u001b[0;32mif\u001b[0m \u001b[0;32mnot\u001b[0m \u001b[0mis_list_like\u001b[0m\u001b[0;34m(\u001b[0m\u001b[0mvalues\u001b[0m\u001b[0;34m)\u001b[0m\u001b[0;34m:\u001b[0m\u001b[0;34m\u001b[0m\u001b[0;34m\u001b[0m\u001b[0m\n\u001b[0;32m--> 435\u001b[0;31m         raise TypeError(\n\u001b[0m\u001b[1;32m    436\u001b[0m             \u001b[0;34m\"only list-like objects are allowed to be passed \"\u001b[0m\u001b[0;34m\u001b[0m\u001b[0;34m\u001b[0m\u001b[0m\n\u001b[1;32m    437\u001b[0m             \u001b[0;34mf\"to isin(), you passed a [{type(values).__name__}]\"\u001b[0m\u001b[0;34m\u001b[0m\u001b[0;34m\u001b[0m\u001b[0m\n",
      "\u001b[0;31mTypeError\u001b[0m: only list-like objects are allowed to be passed to isin(), you passed a [NoneType]"
     ]
    }
   ],
   "metadata": {}
  },
  {
   "cell_type": "code",
   "execution_count": 15,
   "source": [
    "results = result\n",
    "pvalue = results.pvalues\n",
    "estimate = results.params\n",
    "tvalue = results.tvalues\n",
    "std = results.bse\n",
    "pd.set_option('display.float_format', lambda x: '%.5f' % x)\n",
    "results_df = pd.DataFrame({\"estimate\": estimate,\n",
    "                           \"std\": std,\n",
    "                           \"t value\": tvalue,\n",
    "                           \"p value\": pvalue\n",
    "                           })\n",
    "results_df[results_df[\"p value\"] <= 0.05].shape[0]\n"
   ],
   "outputs": [
    {
     "output_type": "execute_result",
     "data": {
      "text/plain": [
       "(3, 4)"
      ]
     },
     "metadata": {},
     "execution_count": 15
    }
   ],
   "metadata": {}
  }
 ],
 "metadata": {
  "kernelspec": {
   "name": "python3",
   "display_name": "Python 3.8.8 64-bit ('base': conda)"
  },
  "language_info": {
   "codemirror_mode": {
    "name": "ipython",
    "version": 3
   },
   "file_extension": ".py",
   "mimetype": "text/x-python",
   "name": "python",
   "nbconvert_exporter": "python",
   "pygments_lexer": "ipython3",
   "version": "3.8.8"
  },
  "interpreter": {
   "hash": "40d35b18824a72466740eca9854c21d0838d2a95cb0ef047a5bc842bf6a70449"
  }
 },
 "nbformat": 4,
 "nbformat_minor": 4
}