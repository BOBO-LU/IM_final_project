{
 "cells": [
  {
   "cell_type": "code",
   "execution_count": 1,
   "source": [
    "from selenium.webdriver.common.keys import Keys\n",
    "from selenium.webdriver.common.by import By\n",
    "from selenium.common.exceptions import NoSuchElementException\n",
    "from selenium.webdriver.chrome.service import Service\n",
    "import csv\n",
    "import datetime\n",
    "import time\n",
    "import os\n",
    "from selenium import webdriver\n",
    "\n",
    "import matplotlib.pyplot as plt\n",
    "import collections\n",
    "from openpyxl import load_workbook\n",
    "\n",
    "import math\n",
    "import statistics\n",
    "import numpy as np\n",
    "\n"
   ],
   "outputs": [],
   "metadata": {}
  },
  {
   "cell_type": "code",
   "execution_count": 2,
   "source": [
    "def set_driver(url):\n",
    "\n",
    "    ser = Service(DRIVER_PATH)\n",
    "    options = webdriver.ChromeOptions()  # Set up Chinese\n",
    "    # options.add_argument('--headless')\n",
    "    options.add_argument('lang=zh_CN.UTF-8')  # Replacement of head\n",
    "    options.add_argument(\n",
    "        'User-Agent=\"Mozilla/5.0 (Windows NT 10.0; WOW64) AppleWebKit/537.36 (KHTML, like Gecko) Chrome/72.0.3626.121 Safari/537.36\"')\n",
    "    options.add_argument(\"--disable-infobars\")\n",
    "    options.add_argument(\"--headless\")\n",
    "    driver = webdriver.Chrome(\n",
    "        service=ser,\n",
    "        options=options)\n",
    "\n",
    "    driver.get(url)\n",
    "    print(\"finish setup driver\")\n",
    "    return driver\n",
    "\n",
    "\n",
    "def scroll_to_button():\n",
    "    reached_page_end = False\n",
    "    last_height = driver.execute_script(\"return document.body.scrollHeight\")\n",
    "\n",
    "    while not reached_page_end:\n",
    "        driver.find_element_by_xpath('//body').send_keys(Keys.END)\n",
    "        time.sleep(2)\n",
    "        new_height = driver.execute_script(\"return document.body.scrollHeight\")\n",
    "        if last_height == new_height:\n",
    "            reached_page_end = True\n",
    "        else:\n",
    "            last_height = new_height\n",
    "    print(\"reach end\")\n",
    "    # driver.quit()\n",
    "    \n",
    "def init_filename(source, subject):\n",
    "    # /呱吉/PTT.csv\n",
    "    # /呱吉/FB.csv\n",
    "    # ...\n",
    "    folder = f\"/{source}/\"\n",
    "    return subject + folder\n",
    "\n",
    "\n",
    "def write_file():\n",
    "    out_filename = \"\"\n",
    "    with open(out_filename, 'a') as out_file:\n",
    "        for line in in_file:\n",
    "\n",
    "            out_file.write(parsed_line)\n",
    "\n",
    "\n",
    "def init_csv(file_name):\n",
    "\n",
    "    with open(file_name, 'w') as out_file:\n",
    "        write = csv.writer(out_file)\n",
    "        header = ['Source', 'Title', 'Link', 'Date', 'Summary', 'Text', 'Like']\n",
    "        # PTT, 呱吉吃大便, http://, '2021-11-17', XXXX, XXXXX, 23\n",
    "        write.writerow(header)\n",
    "\n",
    "\n",
    "def string_to_datetime(s):\n",
    "    return datetime.datetime.strptime(s, '%Y/%m/%d')\n"
   ],
   "outputs": [],
   "metadata": {}
  },
  {
   "cell_type": "code",
   "execution_count": 3,
   "source": [
    "DRIVER_PATH = \"/Users/bobo/OneDrive - 台灣微軟/0. bobo/Codes/stratechery crawler/chromedriver\"\n",
    "keywords_url = \"https://www.ettoday.net/news_search/doSearch.php?keywords=館長\"\n",
    "tag_url = \"https://www.ettoday.net/news/tag/統神/\"\n"
   ],
   "outputs": [],
   "metadata": {}
  },
  {
   "cell_type": "code",
   "execution_count": 5,
   "source": [
    "# tag search\n",
    "# driver.execute_script(\"window.scrollTo(0, document.body.scrollHeight);\")\n",
    "driver = set_driver(tag_url)\n",
    "\n",
    "reached_page_end = False\n",
    "last_height = driver.execute_script(\"return document.body.scrollHeight\")\n",
    "time.sleep(5)\n",
    "while not reached_page_end:\n",
    "    body = driver.find_element_by_xpath('//body')\n",
    "    print(body)\n",
    "    body.send_keys(Keys.END)\n",
    "    time.sleep(3)\n",
    "    new_height = driver.execute_script(\"return document.body.scrollHeight\")\n",
    "    if last_height == new_height:\n",
    "        reached_page_end = True\n",
    "    else:\n",
    "        last_height = new_height\n",
    "print(\"reach end\")\n",
    "\n",
    "time.sleep(10)\n",
    "\n",
    "block_div = driver.find_element_by_class_name(\"c1\")\n",
    "title_list = block_div.find_elements_by_xpath(\n",
    "    \".//div[@class='piece clearfix']\")\n",
    "\n",
    "press = title_list[-1].find_element_by_tag_name(\n",
    "    \"h3\").find_element_by_tag_name(\"a\")\n",
    "press.send_keys(Keys.NULL)\n",
    "\n",
    "print(\"len: \", len(title_list))\n",
    "\n",
    "filename = \"test.csv\"\n",
    "with open(filename, 'a') as f:\n",
    "    write = csv.writer(f)\n",
    "\n",
    "    header = ['Source', 'Title', 'Link', 'Date', 'Summary', 'Text', 'Like']\n",
    "    dic = {i: \"\" for i in header}\n",
    "\n",
    "    for i in title_list:\n",
    "        dic['Source'] = \"ettoday\"\n",
    "        dic['Title'] = i.find_element_by_tag_name('h3').text.replace(\"  \", \" \")\n",
    "        dic['Link'] = i.find_element_by_tag_name('a').get_attribute(\"href\")\n",
    "        dic['Date'] = i.find_element_by_class_name('date').text\n",
    "        dic['Summary'] = i.find_element_by_class_name('summary').text\n",
    "        dic['Text'] = \"\"\n",
    "        dic['Like'] = 0\n",
    "\n",
    "        line = dic.values()\n",
    "        write.writerow(line)\n"
   ],
   "outputs": [
    {
     "output_type": "stream",
     "name": "stderr",
     "text": [
      "<ipython-input-2-908dfb727e1e>:9: DeprecationWarning: executable_path has been deprecated, please pass in a Service object\n",
      "  driver = webdriver.Chrome(\n",
      "<ipython-input-5-1b9b660b975d>:9: DeprecationWarning: find_element_by_* commands are deprecated. Please use find_element() instead\n",
      "  body = driver.find_element_by_xpath('//body')\n"
     ]
    },
    {
     "output_type": "stream",
     "name": "stdout",
     "text": [
      "<selenium.webdriver.remote.webelement.WebElement (session=\"04b4f270126ccdd0ee3e4831ad1a2991\", element=\"84be087d-24c1-41a5-ae6a-914ab7c47f43\")>\n",
      "reach end\n"
     ]
    },
    {
     "output_type": "stream",
     "name": "stderr",
     "text": [
      "<ipython-input-5-1b9b660b975d>:22: DeprecationWarning: find_element_by_* commands are deprecated. Please use find_element() instead\n",
      "  block_div = driver.find_element_by_class_name(\"c1\")\n",
      "/Users/bobo/opt/anaconda3/lib/python3.8/site-packages/selenium/webdriver/remote/webelement.py:425: UserWarning: find_elements_by_* commands are deprecated. Please use find_elements() instead\n",
      "  warnings.warn(\"find_elements_by_* commands are deprecated. Please use find_elements() instead\")\n",
      "/Users/bobo/opt/anaconda3/lib/python3.8/site-packages/selenium/webdriver/remote/webelement.py:340: UserWarning: find_element_by_* commands are deprecated. Please use find_element() instead\n",
      "  warnings.warn(\"find_element_by_* commands are deprecated. Please use find_element() instead\")\n",
      "/Users/bobo/opt/anaconda3/lib/python3.8/site-packages/selenium/webdriver/remote/webelement.py:445: UserWarning: find_element_by_* commands are deprecated. Please use find_element() instead\n",
      "  warnings.warn(\"find_element_by_* commands are deprecated. Please use find_element() instead\")\n"
     ]
    },
    {
     "output_type": "stream",
     "name": "stdout",
     "text": [
      "len:  20\n"
     ]
    }
   ],
   "metadata": {}
  },
  {
   "cell_type": "code",
   "execution_count": 121,
   "source": [
    "# search by keywords\n",
    "driver = set_driver(keywords_url)\n"
   ],
   "outputs": [
    {
     "output_type": "stream",
     "name": "stderr",
     "text": [
      "<ipython-input-120-908dfb727e1e>:9: DeprecationWarning: executable_path has been deprecated, please pass in a Service object\n",
      "  driver = webdriver.Chrome(\n"
     ]
    }
   ],
   "metadata": {}
  },
  {
   "cell_type": "code",
   "execution_count": 122,
   "source": [
    "def crawl_page():\n",
    "    block_div = driver.find_element(By.ID, \"primary\")\n",
    "    box_list = block_div.find_elements(By.CLASS_NAME, \"box_2\")\n",
    "\n",
    "\n",
    "    filename = \"test.csv\"\n",
    "    with open(filename, 'a') as f:\n",
    "        write = csv.writer(f)\n",
    "\n",
    "        header = ['Source', 'Title', 'Link', 'Date', 'Summary', 'Text', 'Like']\n",
    "        dic = {i: \"\" for i in header}\n",
    "\n",
    "        for box in box_list:\n",
    "            dic['Source'] = \"ettoday\"\n",
    "            dic['Title'] = box.find_element(By.TAG_NAME, \"h2\").text.replace(\"\\u3000\", \" \")\n",
    "            dic['Link'] = box.find_element(By.TAG_NAME, 'a').get_attribute(\"href\")\n",
    "            dic['Date'] = box.find_element(By.CLASS_NAME, 'date').text.split(\"/ \")[1].replace(\")\", \"\")\n",
    "            dic['Summary'] = box.find_element(By.CLASS_NAME, 'detail').text\n",
    "            dic['Text'] = \"\"\n",
    "            dic['Like'] = 0\n",
    "\n",
    "            line = dic.values()\n",
    "            write.writerow(line)\n",
    "\n",
    "\n",
    "def check_exists_by_class(class_name):\n",
    "    try:\n",
    "        driver.find_element(By.CLASS_NAME, class_name)\n",
    "    except NoSuchElementException:\n",
    "        return False\n",
    "    return True\n",
    "\n",
    "def get_max_page():\n",
    "    info = driver.find_element(By.CLASS_NAME, \"info\").text\n",
    "    for t in [\"第\", \"頁\", \"共\", \"頁\"]:\n",
    "        info = info.replace(t, \"\")\n",
    "    info = info.replace(\" \", \"\")\n",
    "    current_page, max_page = map(int, info.split(\"|\"))\n",
    "    current_page, max_page\n",
    "    return max_page\n"
   ],
   "outputs": [],
   "metadata": {}
  },
  {
   "cell_type": "code",
   "execution_count": null,
   "source": [
    "for i in range(get_max_page()):\n",
    "    crawl_page()\n",
    "    time.sleep(5)\n",
    "    next_page = driver.find_element_by_xpath(\"//*[text()=' > ']\")\n",
    "    next_page.click()\n"
   ],
   "outputs": [],
   "metadata": {}
  }
 ],
 "metadata": {
  "orig_nbformat": 4,
  "language_info": {
   "name": "python",
   "version": "3.8.8",
   "mimetype": "text/x-python",
   "codemirror_mode": {
    "name": "ipython",
    "version": 3
   },
   "pygments_lexer": "ipython3",
   "nbconvert_exporter": "python",
   "file_extension": ".py"
  },
  "kernelspec": {
   "name": "python3",
   "display_name": "Python 3.8.8 64-bit ('base': conda)"
  },
  "interpreter": {
   "hash": "40d35b18824a72466740eca9854c21d0838d2a95cb0ef047a5bc842bf6a70449"
  }
 },
 "nbformat": 4,
 "nbformat_minor": 2
}