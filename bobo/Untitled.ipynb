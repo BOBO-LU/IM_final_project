{
 "cells": [
  {
   "cell_type": "code",
   "execution_count": 5,
   "id": "48df441f-8573-4f1b-ac97-d9fd4d42e6b5",
   "metadata": {},
   "outputs": [],
   "source": [
    "import csv\n",
    "import datetime\n",
    "import time\n",
    "import os\n",
    "from selenium import webdriver\n",
    "\n",
    "import matplotlib.pyplot as plt\n",
    "import collections\n",
    "from openpyxl import load_workbook\n",
    "\n",
    "import math\n",
    "import statistics\n",
    "import numpy as np"
   ]
  },
  {
   "cell_type": "code",
   "execution_count": 28,
   "id": "64e4b2e7-29cf-42fc-9bc1-7bf59b209fe1",
   "metadata": {},
   "outputs": [],
   "source": [
    "ytrs = [\"龍龍\",\"Toyz\",\"谷阿莫\"]\n",
    "ytrs_view = []\n",
    "ytrs_emotion = []"
   ]
  },
  {
   "cell_type": "code",
   "execution_count": 39,
   "id": "93f56b17-1c4b-468a-97a7-4c77c34e2350",
   "metadata": {},
   "outputs": [],
   "source": [
    "def get_filename_from_folder(folder_path, ext=\"\"):\n",
    "    file_name_list = []\n",
    "    for file_name in os.listdir(folder_path):\n",
    "        name = os.path.join(folder_path + \"/\"+ file_name)\n",
    "        \n",
    "        # get file extension\n",
    "        file_ext = os.path.splitext(file_name)[1]\n",
    "        # if user give ext and the file extension is not the same, pass\n",
    "        if ext and file_ext != ext:\n",
    "            continue\n",
    "            \n",
    "            \n",
    "        \n",
    "        os.rename(name, os.path.join(folder_path + \"/a\"+ file_name))\n",
    "        \n",
    "        file_name_list.append(name)\n",
    "        \n",
    "    return sorted(file_name_list)\n",
    "\n"
   ]
  },
  {
   "cell_type": "code",
   "execution_count": 40,
   "id": "b003a00a-f688-4f98-a4b6-332a31abde9d",
   "metadata": {},
   "outputs": [
    {
     "data": {
      "text/plain": [
       "'./yt/龍龍_單主題_趨勢_20201201_20211216.xlsx'"
      ]
     },
     "execution_count": 40,
     "metadata": {},
     "output_type": "execute_result"
    }
   ],
   "source": [
    "a = get_filename_from_folder(\"./yt\")[-1]\n",
    "a"
   ]
  },
  {
   "cell_type": "code",
   "execution_count": 24,
   "id": "da560bf3-897c-4d64-83c3-72c30594b249",
   "metadata": {},
   "outputs": [],
   "source": [
    "wb = load_workbook(filename=a)"
   ]
  },
  {
   "cell_type": "code",
   "execution_count": 41,
   "id": "6756f1d3-e974-48a2-99c9-2997c6761d69",
   "metadata": {},
   "outputs": [
    {
     "ename": "FileNotFoundError",
     "evalue": "[Errno 2] No such file or directory: './yt/a龍龍_單主題_趨勢_20201201_20211221.xlsx'",
     "output_type": "error",
     "traceback": [
      "\u001b[0;31m---------------------------------------------------------------------------\u001b[0m",
      "\u001b[0;31mFileNotFoundError\u001b[0m                         Traceback (most recent call last)",
      "\u001b[0;32m<ipython-input-41-e2a2dafd9e1d>\u001b[0m in \u001b[0;36m<module>\u001b[0;34m\u001b[0m\n\u001b[1;32m      4\u001b[0m \u001b[0;32mfor\u001b[0m \u001b[0mytr\u001b[0m \u001b[0;32min\u001b[0m \u001b[0mytrs\u001b[0m\u001b[0;34m:\u001b[0m\u001b[0;34m\u001b[0m\u001b[0;34m\u001b[0m\u001b[0m\n\u001b[1;32m      5\u001b[0m     \u001b[0mfilename\u001b[0m \u001b[0;34m=\u001b[0m \u001b[0;34mr'./yt/a'\u001b[0m \u001b[0;34m+\u001b[0m \u001b[0mytr\u001b[0m \u001b[0;34m+\u001b[0m \u001b[0;34m'_單主題_趨勢_20201201_20211221.xlsx'\u001b[0m\u001b[0;34m\u001b[0m\u001b[0;34m\u001b[0m\u001b[0m\n\u001b[0;32m----> 6\u001b[0;31m     \u001b[0mwb\u001b[0m \u001b[0;34m=\u001b[0m \u001b[0mload_workbook\u001b[0m\u001b[0;34m(\u001b[0m\u001b[0mfilename\u001b[0m\u001b[0;34m=\u001b[0m\u001b[0mfilename\u001b[0m\u001b[0;34m)\u001b[0m\u001b[0;34m\u001b[0m\u001b[0;34m\u001b[0m\u001b[0m\n\u001b[0m\u001b[1;32m      7\u001b[0m     \u001b[0mop_view_data\u001b[0m \u001b[0;34m=\u001b[0m \u001b[0mcollections\u001b[0m\u001b[0;34m.\u001b[0m\u001b[0mOrderedDict\u001b[0m\u001b[0;34m(\u001b[0m\u001b[0;34m)\u001b[0m\u001b[0;34m\u001b[0m\u001b[0;34m\u001b[0m\u001b[0m\n\u001b[1;32m      8\u001b[0m     \u001b[0mopview_wb\u001b[0m \u001b[0;34m=\u001b[0m \u001b[0mwb\u001b[0m\u001b[0;34m[\u001b[0m\u001b[0;34m'日趨勢'\u001b[0m\u001b[0;34m]\u001b[0m\u001b[0;34m\u001b[0m\u001b[0;34m\u001b[0m\u001b[0m\n",
      "\u001b[0;32m~/anaconda3/envs/ml/lib/python3.9/site-packages/openpyxl/reader/excel.py\u001b[0m in \u001b[0;36mload_workbook\u001b[0;34m(filename, read_only, keep_vba, data_only, keep_links)\u001b[0m\n\u001b[1;32m    313\u001b[0m \u001b[0;34m\u001b[0m\u001b[0m\n\u001b[1;32m    314\u001b[0m     \"\"\"\n\u001b[0;32m--> 315\u001b[0;31m     reader = ExcelReader(filename, read_only, keep_vba,\n\u001b[0m\u001b[1;32m    316\u001b[0m                         data_only, keep_links)\n\u001b[1;32m    317\u001b[0m     \u001b[0mreader\u001b[0m\u001b[0;34m.\u001b[0m\u001b[0mread\u001b[0m\u001b[0;34m(\u001b[0m\u001b[0;34m)\u001b[0m\u001b[0;34m\u001b[0m\u001b[0;34m\u001b[0m\u001b[0m\n",
      "\u001b[0;32m~/anaconda3/envs/ml/lib/python3.9/site-packages/openpyxl/reader/excel.py\u001b[0m in \u001b[0;36m__init__\u001b[0;34m(self, fn, read_only, keep_vba, data_only, keep_links)\u001b[0m\n\u001b[1;32m    122\u001b[0m     def __init__(self,  fn, read_only=False, keep_vba=KEEP_VBA,\n\u001b[1;32m    123\u001b[0m                   data_only=False, keep_links=True):\n\u001b[0;32m--> 124\u001b[0;31m         \u001b[0mself\u001b[0m\u001b[0;34m.\u001b[0m\u001b[0marchive\u001b[0m \u001b[0;34m=\u001b[0m \u001b[0m_validate_archive\u001b[0m\u001b[0;34m(\u001b[0m\u001b[0mfn\u001b[0m\u001b[0;34m)\u001b[0m\u001b[0;34m\u001b[0m\u001b[0;34m\u001b[0m\u001b[0m\n\u001b[0m\u001b[1;32m    125\u001b[0m         \u001b[0mself\u001b[0m\u001b[0;34m.\u001b[0m\u001b[0mvalid_files\u001b[0m \u001b[0;34m=\u001b[0m \u001b[0mself\u001b[0m\u001b[0;34m.\u001b[0m\u001b[0marchive\u001b[0m\u001b[0;34m.\u001b[0m\u001b[0mnamelist\u001b[0m\u001b[0;34m(\u001b[0m\u001b[0;34m)\u001b[0m\u001b[0;34m\u001b[0m\u001b[0;34m\u001b[0m\u001b[0m\n\u001b[1;32m    126\u001b[0m         \u001b[0mself\u001b[0m\u001b[0;34m.\u001b[0m\u001b[0mread_only\u001b[0m \u001b[0;34m=\u001b[0m \u001b[0mread_only\u001b[0m\u001b[0;34m\u001b[0m\u001b[0;34m\u001b[0m\u001b[0m\n",
      "\u001b[0;32m~/anaconda3/envs/ml/lib/python3.9/site-packages/openpyxl/reader/excel.py\u001b[0m in \u001b[0;36m_validate_archive\u001b[0;34m(filename)\u001b[0m\n\u001b[1;32m     94\u001b[0m             \u001b[0;32mraise\u001b[0m \u001b[0mInvalidFileException\u001b[0m\u001b[0;34m(\u001b[0m\u001b[0mmsg\u001b[0m\u001b[0;34m)\u001b[0m\u001b[0;34m\u001b[0m\u001b[0;34m\u001b[0m\u001b[0m\n\u001b[1;32m     95\u001b[0m \u001b[0;34m\u001b[0m\u001b[0m\n\u001b[0;32m---> 96\u001b[0;31m     \u001b[0marchive\u001b[0m \u001b[0;34m=\u001b[0m \u001b[0mZipFile\u001b[0m\u001b[0;34m(\u001b[0m\u001b[0mfilename\u001b[0m\u001b[0;34m,\u001b[0m \u001b[0;34m'r'\u001b[0m\u001b[0;34m)\u001b[0m\u001b[0;34m\u001b[0m\u001b[0;34m\u001b[0m\u001b[0m\n\u001b[0m\u001b[1;32m     97\u001b[0m     \u001b[0;32mreturn\u001b[0m \u001b[0marchive\u001b[0m\u001b[0;34m\u001b[0m\u001b[0;34m\u001b[0m\u001b[0m\n\u001b[1;32m     98\u001b[0m \u001b[0;34m\u001b[0m\u001b[0m\n",
      "\u001b[0;32m~/anaconda3/envs/ml/lib/python3.9/zipfile.py\u001b[0m in \u001b[0;36m__init__\u001b[0;34m(self, file, mode, compression, allowZip64, compresslevel, strict_timestamps)\u001b[0m\n\u001b[1;32m   1237\u001b[0m             \u001b[0;32mwhile\u001b[0m \u001b[0;32mTrue\u001b[0m\u001b[0;34m:\u001b[0m\u001b[0;34m\u001b[0m\u001b[0;34m\u001b[0m\u001b[0m\n\u001b[1;32m   1238\u001b[0m                 \u001b[0;32mtry\u001b[0m\u001b[0;34m:\u001b[0m\u001b[0;34m\u001b[0m\u001b[0;34m\u001b[0m\u001b[0m\n\u001b[0;32m-> 1239\u001b[0;31m                     \u001b[0mself\u001b[0m\u001b[0;34m.\u001b[0m\u001b[0mfp\u001b[0m \u001b[0;34m=\u001b[0m \u001b[0mio\u001b[0m\u001b[0;34m.\u001b[0m\u001b[0mopen\u001b[0m\u001b[0;34m(\u001b[0m\u001b[0mfile\u001b[0m\u001b[0;34m,\u001b[0m \u001b[0mfilemode\u001b[0m\u001b[0;34m)\u001b[0m\u001b[0;34m\u001b[0m\u001b[0;34m\u001b[0m\u001b[0m\n\u001b[0m\u001b[1;32m   1240\u001b[0m                 \u001b[0;32mexcept\u001b[0m \u001b[0mOSError\u001b[0m\u001b[0;34m:\u001b[0m\u001b[0;34m\u001b[0m\u001b[0;34m\u001b[0m\u001b[0m\n\u001b[1;32m   1241\u001b[0m                     \u001b[0;32mif\u001b[0m \u001b[0mfilemode\u001b[0m \u001b[0;32min\u001b[0m \u001b[0mmodeDict\u001b[0m\u001b[0;34m:\u001b[0m\u001b[0;34m\u001b[0m\u001b[0;34m\u001b[0m\u001b[0m\n",
      "\u001b[0;31mFileNotFoundError\u001b[0m: [Errno 2] No such file or directory: './yt/a龍龍_單主題_趨勢_20201201_20211221.xlsx'"
     ]
    }
   ],
   "source": [
    "import openpyxl\n",
    "openpyxl.Workbook.encoding=\"cp936\"\n",
    "# opview 資料（聲量）\n",
    "for ytr in ytrs:\n",
    "    filename = r'./yt/' + ytr + '_單主題_趨勢_20201201_20211221.xlsx'\n",
    "    wb = load_workbook(filename=filename)\n",
    "    op_view_data = collections.OrderedDict()\n",
    "    opview_wb = wb['日趨勢']\n",
    "    for i in range(2, opview_wb.max_row+1):\n",
    "        day = opview_wb.cell(column=1, row=i).value\n",
    "        qty = opview_wb.cell(column=2, row=i).value\n",
    "\n",
    "        op_view_data[day] = qty\n",
    "    \n",
    "    ytrs_view.append(op_view_data)\n",
    "    \n",
    "    \n",
    "    # opview 資料（情緒）\n",
    "    wb = load_workbook(filename=r\"./yt/\" + ytr + \"_單主題_情緒_20201201_20211221.xlsx\")\n",
    "    op_view_emotion = collections.OrderedDict(\n",
    "        {'good': collections.OrderedDict(), 'bad': collections.OrderedDict()})\n",
    "    opview_wb = wb['日情緒趨勢']\n",
    "    for i in range(2, opview_wb.max_row+1):\n",
    "\n",
    "        day = opview_wb.cell(column=1, row=i).value\n",
    "        good = opview_wb.cell(column=2, row=i).value\n",
    "        bad = opview_wb.cell(column=3, row=i).value\n",
    "        total = opview_wb.cell(column=4, row=i).value\n",
    "\n",
    "\n",
    "        op_view_emotion[\"good\"][day] = good\n",
    "        op_view_emotion[\"bad\"][day] = bad\n",
    "        \n",
    "    ytrs_emotion.append(op_view_emotion)"
   ]
  },
  {
   "cell_type": "code",
   "execution_count": null,
   "id": "78671e98-5afe-4f2e-8043-cdb300ba3215",
   "metadata": {},
   "outputs": [],
   "source": []
  }
 ],
 "metadata": {
  "kernelspec": {
   "display_name": "Python 3",
   "language": "python",
   "name": "python3"
  },
  "language_info": {
   "codemirror_mode": {
    "name": "ipython",
    "version": 3
   },
   "file_extension": ".py",
   "mimetype": "text/x-python",
   "name": "python",
   "nbconvert_exporter": "python",
   "pygments_lexer": "ipython3",
   "version": "3.9.7"
  }
 },
 "nbformat": 4,
 "nbformat_minor": 5
}
